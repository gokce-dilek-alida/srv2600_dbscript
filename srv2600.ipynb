{
 "cells": [
  {
   "cell_type": "code",
   "execution_count": 6,
   "metadata": {},
   "outputs": [
    {
     "name": "stdout",
     "output_type": "stream",
     "text": [
      "721145BD0084164DABA880EA0C4938A9\n",
      "['3EE14C3D-4494-4EB6-BB12-AC86015FAF0C', '105D7CB1-3262-486F-BB54-AC600119E814', '8FB5C42A-0F4C-45B6-8131-A783012F0225', '62218C0A-454C-4C17-BD00-A793011F1517', 'DFC50B9F-CBBC-4E14-9AD3-A89B0117EA38', 'C91F5450-C315-41EE-8DC7-A9B3014A2278', '3585FAED-8866-4701-9549-A77F000984E9', 'EAC21315-3F00-429E-9DA2-AADB011F4BE3', '1E469A8D-1AC4-4077-8641-A7C20118CE43', '943E761E-27FC-4A96-8384-A6F300131523', 'C6F182D9-4489-48C1-8EA6-A7BD00399FE9', '5880BD64-2A6C-43C6-B562-A7CB016A221B', '13B92C1B-E809-46B0-AF08-A7E6010DC54D', 'D419A700-6FE7-47BD-9958-AB04000846CD', 'BD82443B-8212-4D0C-8ABE-ACB0015C8192', '6D871792-735D-497E-9B23-AC8A014C6600', 'D2343865-7D95-4898-9B47-ACCA012B6C2E', 'F0202742-1197-4035-A3C5-AC2C01503624', '9EA9B384-3C69-4B74-93F0-AD0301641714', '3DF03C59-222F-439F-A006-A97500E41814', 'A3DDFD13-3773-45CA-AD0F-AC67013288AE', '7F8D3B4E-9F36-4286-B3BC-A8F201188FAC', '51F864DE-0570-4E77-8F52-ABF400F0BB66', '4E1F70C7-372E-4531-A902-A64F017B738F', '7B329DEB-ED8D-4971-945A-ABB20133080D', '19A6DBB4-E0F1-4A75-B770-A7A2000BA45F', '955BA6A0-787B-46E3-B0DB-A93E0116189D', 'AC4B9646-9EF7-44FB-80C8-AE4A011566CA', '6F2B62A2-E5E4-48BE-BFED-AE4D010F688B', '6DF3C7E0-C010-43C4-81B4-AEEC012FD3CC', '2918BCCE-960B-43CC-93A9-A75C01495C2B', '1679595D-97A8-4930-B1DA-AE0B01083622', 'B6EE0320-4286-4788-85A4-A758014A3513', '437ED9D6-22A8-4E81-9818-AB4801356B18']\n"
     ]
    }
   ],
   "source": [
    "# get applicationids that have active video feedback (application settings page → SAM db)\n",
    "# convert each applicationId to the correct guid\n",
    "import cx_Oracle\n",
    "import uuid\n",
    "\n",
    "dsn_tns = cx_Oracle.makedsn('sit1oracle.prodlabs.local', '1521', service_name='GV')\n",
    "\n",
    "def get_oracleid_from_bytes(byteString):\n",
    "    return str(uuid.UUID(bytes=byteString).hex).upper()\n",
    "\n",
    "# reference https://stackoverflow.com/questions/37684714/oracle-raw-in-string-format-to-standard-guid\n",
    "def raw_to_guid(rawString):\n",
    "    split_groups = [rawString[idx:idx + 2] for idx in range(0, len(rawString), 2)]\n",
    "\n",
    "    return (split_groups[3]+split_groups[2]+split_groups[1]+split_groups[0]+'-'+split_groups[5]+split_groups[4]+'-'+split_groups[7]+\n",
    "    split_groups[6]+'-'+split_groups[8]+split_groups[9]+'-'+split_groups[10]+split_groups[11]+split_groups[12]+split_groups[13]+split_groups[14]+split_groups[15])\n",
    "\n",
    "try:\n",
    "    with cx_Oracle.connect(user='sam', password='Password1', dsn=dsn_tns) as conn:\n",
    "        with conn.cursor() as cursor:\n",
    "            cursor.execute(\"select id from lk_settings where name='videoFeedback.enabled'\")\n",
    "            while True:\n",
    "                row = cursor.fetchone()\n",
    "                setting_id = get_oracleid_from_bytes(row[0])\n",
    "                break\n",
    "            print(setting_id)\n",
    "            application_ids = []\n",
    "            cursor.execute(\"select applicationid from applicationsettings where settingid = :settingid and value='true'\", [setting_id])\n",
    "            while True:\n",
    "                row = cursor.fetchone()\n",
    "                if row is None:\n",
    "                    break\n",
    "                application_id = get_oracleid_from_bytes(row[0])\n",
    "                application_id_guid = raw_to_guid(application_id)\n",
    "                application_ids.append(application_id_guid)\n",
    "            print(application_ids)\n",
    "\n",
    "except cx_Oracle.Error as error:\n",
    "    print(error)\n"
   ]
  },
  {
   "cell_type": "code",
   "execution_count": 2,
   "metadata": {},
   "outputs": [],
   "source": [
    "import warnings\n",
    "warnings.filterwarnings('ignore')"
   ]
  },
  {
   "cell_type": "code",
   "execution_count": 12,
   "metadata": {},
   "outputs": [
    {
     "name": "stdout",
     "output_type": "stream",
     "text": [
      "['F4586A56-D693-474A-856D-AC86015FACE5', '89F70F3C-527F-4D61-9A6F-AC600119E6AF', '8F2B9893-DD25-432E-8717-A78301277374', 'FFD53877-D44E-4CBB-B3A3-A793011CD5A9', '5E0147B3-0C43-4E68-A5D4-A89B0117E93F', '564A7A44-3BAF-4BB1-99C5-A9B3014A2179', '8D8EF15A-9840-4CFE-82BF-A77F0002BFB6', '93A5E3AE-89D5-4471-9CDB-AADB011F4A3D', '68E08BA6-3C8B-4424-B1B3-A7C20115BB2B', '2812063D-9024-4EDC-8B0D-A6FB0011930F', '816E3569-D05A-4404-9721-A7BD0135B327', 'B3324CB9-0C9D-4B65-9E9A-A7CB0165C248', '544334B0-6864-4118-9619-A7E6010CB321', 'A3E15E55-30D7-410E-A908-AB0400084500', '5C175646-7B26-4541-BB80-ACB0015C7FC9', '1F1361FE-407C-4BF9-9238-AC8A014C642E', '2298B611-CB61-4D1F-B5CB-ACCA012B6A19', '8BA4283C-0380-413A-877C-AC2C01503374', '00276831-09C6-47C5-915F-AD0301641541', '7FBCF420-375B-4478-9A93-A97500E41704', 'E775F163-EDC4-49F1-93C7-AC67013285DE', '8CD4F154-7612-4D4B-8614-A8F201188F5E', 'DE5841DC-6B41-4D0D-8C4B-ABF400F0B90E', 'D9FD0731-B344-4321-8712-D20D1C087524', '4EAB339B-A5A2-4FDA-9B0C-ABB20133062C', '6FCA3D17-1A74-44EC-8589-A7A2000D26CE', 'CA49FECC-82CC-4665-A7C5-A93E011617B4', '4EC6CB80-E03A-411E-B9D0-AE4A0115669A', 'EE56F207-D859-4477-8122-AE4D010F66DE', '341DD1BE-E4D3-45C0-AD49-AEEC012FD2E4', '4134ADE2-21FB-4EC0-A366-A75C0148F0C3', 'A1199AE3-B99B-482A-A1B6-AE0B010833EB', 'AB2D2FD9-4A92-43F9-8D5F-A7580142165B', 'B13A8650-883F-4FA8-8B7E-AB4801356A8F']\n",
      "['EC1951A5-C62E-4535-99FB-CD0EC85069FF', '701B8769-552C-4B32-BFCE-E391319BDF8D', '0D509D1D-6715-472F-B744-A53FEAD1AF9C', '6DA9BD96-46B5-419B-A369-84CF1185E89A', 'E99E6F25-475C-4BAF-B9BE-C6445D66245F', '08B575DA-3251-4642-B98D-58D87D2FF975', '1609007E-DC5A-4160-B71A-4FD50AC6BAFA', '763D6E06-534C-4B2F-B4CA-72A40EFFE4D0', 'D3F5139F-08D5-4C3B-9F6F-4BADAC0542B3', 'DC932943-6ABE-4CDB-A793-5B55FE30FB46', 'F5C95C86-01B6-4FB5-B23E-9EA90845F18E', '7C413046-7377-4DF4-9EC5-B1B8D82A1BB4', '411E2283-E9FB-4958-80F7-1D306F8014B2', '8896B9D5-D242-4ED0-8B3F-AC11040AB362', 'B01DAC2B-9AEB-432B-B4A4-69768D7065E0', '81E1BC38-1DBD-42A5-959A-24705CC249A4', '93297994-8ED7-48D1-A75E-AEE0757D05DB', '3CEA8B7F-72CA-4735-A8EB-DAED3D72729E', '4A731FB0-3477-4130-8A6E-07719C42C763', '7A02AFD9-9288-4747-A928-4A18041A476A', 'DAE137DF-636A-4871-9D45-E22C6EA5D238', 'A089394A-D9A5-4417-949F-C77E0BBEAB43', '4E032C30-0370-4926-A537-A77066B044A0', '5723E800-AD3D-4055-B4E3-569DC72A1E90', '4298F549-BBD2-41F3-9DEC-29A54BD562FC', '0D6FD311-77A4-4427-9984-EB52156EA585', '624772BA-024D-470D-ABED-C57CDD37BE35', '5480DD7D-854E-485A-8E55-3D5B4D9105F9', '0AB54FC6-C414-45F0-B5D6-5AA11705EB3A', '7DE9F8A4-1EE6-422F-92E4-C2BB64B1DDD2', '1847895B-2E23-4DEF-817D-729B01C19CE2', 'BA729017-54B8-4795-AD60-4A75D54ED763', '6C30A685-E241-4206-A24C-460907957963', '9957B901-6F3A-4B9E-B911-2D098855C109']\n"
     ]
    }
   ],
   "source": [
    "# get panelids corresponding to these applicationids (CPM db)\n",
    "import pyodbc\n",
    "import pandas as pd\n",
    "\n",
    "cnxn_str = (\"Driver={SQL Server Native Client 11.0};\"\n",
    "            \"Server=listener.icm-sit1-sqlserver-ee.cncjmkwlkqyp.us-west-2.rds.amazonaws.com;\"\n",
    "            \"Database=cpm_sit;\"\n",
    "            \"UID=cpm_user;\"\n",
    "            \"PWD=Password1;\")\n",
    "cnxn = pyodbc.connect(cnxn_str)\n",
    "\n",
    "panel_ids = []\n",
    "tenant_ids = []\n",
    "for appl_id in application_ids:\n",
    "    data = pd.read_sql(\"select Id, TenantId from Panels where applicationId='{}'\".format(appl_id), cnxn)\n",
    "    panel_id = data['Id'].iloc[0]\n",
    "    tenant_id = data['TenantId'].iloc[0]\n",
    "    panel_ids.append(panel_id)\n",
    "    tenant_ids.append(tenant_id)\n",
    "print(panel_ids)\n",
    "print(tenant_ids)"
   ]
  },
  {
   "cell_type": "code",
   "execution_count": null,
   "metadata": {},
   "outputs": [],
   "source": [
    "# generate list of memberIds who have unsubscribed (CPM db)\n",
    "def get_purged_members_query(panel_id):\n",
    "\treturn \"\"\"\\\n",
    "\tDECLARE @panelId AS uniqueidentifier = '{}';\n",
    "\n",
    "\tWITH PanelMembers AS (\n",
    "\t\tSELECT * FROM [cpm_sit].[dbo].Members WHERE panelId = @panelId\n",
    "\t)\n",
    "\n",
    "\tSELECT Id FROM PanelMembers\n",
    "\tWHERE\n",
    "\t\tMemberStatusSequenceId IN (\n",
    "\t\t\tSELECT mvv.SequenceId\n",
    "\t\t\tFROM [cpm_sit].[dbo].MemberVariableValues mvv\n",
    "\t\t\tJOIN [cpm_sit].[dbo].MemberVariables mv\n",
    "\t\t\t\tON mvv.MemberVariableId = mv.Id\n",
    "\t\t\tWHERE\n",
    "\t\t\t\tmv.Name = 'memberstatus'\n",
    "\t\t\t\tAND mvv.[Key] = 'purged'\n",
    "\t\t\t\tAND mv.PanelId = @panelId\n",
    "\t\t\t\tAND mvv.PanelId = @panelId\n",
    "\t\t)\n",
    "\t\tAND MemberIdentity1SequenceId IN (\n",
    "\t\t\tSELECT mvv.SequenceId\n",
    "\t\t\tFROM [cpm_sit].[dbo].MemberVariableValues mvv\n",
    "\t\t\tJOIN [cpm_sit].[dbo].MemberVariables mv\n",
    "\t\t\t\tON mvv.MemberVariableId = mv.Id\n",
    "\t\t\tWHERE\n",
    "\t\t\t\tmv.Name = 'email'\n",
    "\t\t\t\tAND mvv.TextValue LIKE '%@purged.disabled'\n",
    "\t\t\t\tAND mv.PanelId = @panelId\n",
    "\t\t\t\tAND mvv.PanelId = @panelId\n",
    "\t\t)\"\"\".format(panel_id)\n",
    "\n",
    "panel_to_members = dict()\n",
    "\n",
    "for panel_id in panel_ids:\n",
    "\tpurgedMembersQuery = get_purged_members_query(panel_id)\n",
    "\tdata = pd.read_sql(purgedMembersQuery, cnxn)\n",
    "\tpanel_to_members[panel_id] = data['Id'].values.tolist()\n",
    "\n",
    "print(panel_to_members)"
   ]
  },
  {
   "cell_type": "code",
   "execution_count": null,
   "metadata": {},
   "outputs": [],
   "source": [
    "# convert tenant ids to oracle guid\n",
    "\n",
    "# reference https://stackoverflow.com/questions/68886687/java-guid-convert-into-oracle-raw16-string \n",
    "def guid_to_raw(guidString):\n",
    "    guidString = guidString.replace(\"-\", \"\")\n",
    "    split_groups = [guidString[idx:idx + 2] for idx in range(0, len(guidString), 2)]\n",
    "\n",
    "    return (split_groups[3]+split_groups[2]+split_groups[1]+split_groups[0]+split_groups[5]+split_groups[4]+split_groups[7]+\n",
    "    split_groups[6]+split_groups[8]+split_groups[9]+split_groups[10]+split_groups[11]+split_groups[12]+split_groups[13]+split_groups[14]+split_groups[15])\n",
    "\n",
    "# generate list of respondentIds who have responded to and completed VPM (VCSD db)\n",
    "dsn_tns = cx_Oracle.makedsn('sit1oracle.prodlabs.local', '1521', service_name='GMASTER')\n",
    "\n",
    "tenant_to_respondents = dict()\n",
    "\n",
    "try:\n",
    "    with cx_Oracle.connect(user='sys', password='Password1', dsn=dsn_tns, mode=cx_Oracle.SYSDBA) as conn:\n",
    "        with conn.cursor() as cursor:\n",
    "            for tenant_id in tenant_ids:\n",
    "                tenant_id = guid_to_raw(tenant_id)\n",
    "                respondent_ids = []\n",
    "                cursor.execute(\"\"\"select distinct Resp.respondentid from firefly_rsp.response Resp inner join firefly_rsp.stepresponsedata StepResp on Resp.responseid = StepResp.responseid where StepResp.questiontype = 'VideoFeedbackPlugin' \n",
    "                and Resp.tenantid = :tenantid and Resp.completedat is not NULL and Resp.respondentid is not NULL\"\"\", [tenant_id])\n",
    "                while True:\n",
    "                    row = cursor.fetchone()\n",
    "                    if row is None:\n",
    "                        break\n",
    "                    respondent_id = row[0]\n",
    "                    respondent_ids.append(respondent_id)\n",
    "                tenant_to_respondents[tenant_id] = respondent_ids\n",
    "\n",
    "except cx_Oracle.Error as error:\n",
    "    print(error)\n",
    "\n",
    "print(tenant_to_respondents)\n"
   ]
  },
  {
   "cell_type": "code",
   "execution_count": null,
   "metadata": {},
   "outputs": [],
   "source": [
    "# map respondent ids to member ids\n",
    "tenant_to_members = dict()\n",
    "\n",
    "dsn_tns = cx_Oracle.makedsn('sit1oracle.prodlabs.local', '1521', service_name='GMASTER')\n",
    "\n",
    "try:\n",
    "    with cx_Oracle.connect(user='sys', password='Password1', dsn=dsn_tns, mode=cx_Oracle.SYSDBA) as conn:\n",
    "        with conn.cursor() as cursor:\n",
    "            for tenant_id in tenant_to_respondents:\n",
    "                member_ids = []\n",
    "                for respondent_id in tenant_to_respondents[tenant_id]:\n",
    "                    cursor.execute(\"select publicid from firefly_app.respondent where respondentid= :respondentId\", [respondent_id])\n",
    "                    while True:\n",
    "                        row = cursor.fetchone()\n",
    "                        public_id = row[0].split(':')[2]\n",
    "                        break\n",
    "                    member_ids.append(public_id) \n",
    "                tenant_to_members[tenant_id] = member_ids\n",
    "\n",
    "except cx_Oracle.Error as error:\n",
    "    print(error)\n",
    "\n",
    "print(tenant_to_members)\n"
   ]
  },
  {
   "cell_type": "code",
   "execution_count": 39,
   "metadata": {},
   "outputs": [
    {
     "name": "stdout",
     "output_type": "stream",
     "text": [
      "['794ed14a-775a-4376-93c4-ac4c0161bd93']\n"
     ]
    }
   ],
   "source": [
    "# intersect the lists\n",
    "from itertools import chain\n",
    "\n",
    "def flatten_dict_values(dict):\n",
    "    return [x.lower() for x in chain.from_iterable(dict.values())]\n",
    "\n",
    "\n",
    "def intersect_lists(lst1, lst2):\n",
    "    lst3 = [value for value in lst1 if value in lst2]\n",
    "    return lst3\n",
    "\n",
    "cpm_members = flatten_dict_values(panel_to_members)\n",
    "\n",
    "vcsd_members = flatten_dict_values(tenant_to_members)\n",
    "\n",
    "print(intersect_lists(cpm_members, vcsd_members))"
   ]
  }
 ],
 "metadata": {
  "kernelspec": {
   "display_name": "Python 3.10.8 ('.venv': venv)",
   "language": "python",
   "name": "python3"
  },
  "language_info": {
   "codemirror_mode": {
    "name": "ipython",
    "version": 3
   },
   "file_extension": ".py",
   "mimetype": "text/x-python",
   "name": "python",
   "nbconvert_exporter": "python",
   "pygments_lexer": "ipython3",
   "version": "3.10.8"
  },
  "orig_nbformat": 4,
  "vscode": {
   "interpreter": {
    "hash": "7f5c7cf21e30e715d04e9c666df8118c52262c7801c393a320052a6ff40b03af"
   }
  }
 },
 "nbformat": 4,
 "nbformat_minor": 2
}
